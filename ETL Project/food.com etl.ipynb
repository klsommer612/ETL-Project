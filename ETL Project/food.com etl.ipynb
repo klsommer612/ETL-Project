{
 "cells": [
  {
   "cell_type": "code",
   "execution_count": 21,
   "metadata": {},
   "outputs": [],
   "source": [
    "# Dependencies\n",
    "import pandas as pd\n",
    "from sqlalchemy import create_engine"
   ]
  },
  {
   "cell_type": "code",
   "execution_count": 22,
   "metadata": {},
   "outputs": [
    {
     "data": {
      "text/html": "<div>\n<style scoped>\n    .dataframe tbody tr th:only-of-type {\n        vertical-align: middle;\n    }\n\n    .dataframe tbody tr th {\n        vertical-align: top;\n    }\n\n    .dataframe thead th {\n        text-align: right;\n    }\n</style>\n<table border=\"1\" class=\"dataframe\">\n  <thead>\n    <tr style=\"text-align: right;\">\n      <th></th>\n      <th>user_id</th>\n      <th>recipe_id</th>\n      <th>date</th>\n      <th>rating</th>\n      <th>review</th>\n    </tr>\n  </thead>\n  <tbody>\n    <tr>\n      <th>0</th>\n      <td>38094</td>\n      <td>40893</td>\n      <td>2003-02-17</td>\n      <td>4</td>\n      <td>Great with a salad. Cooked on top of stove for...</td>\n    </tr>\n    <tr>\n      <th>1</th>\n      <td>1293707</td>\n      <td>40893</td>\n      <td>2011-12-21</td>\n      <td>5</td>\n      <td>So simple, so delicious! Great for chilly fall...</td>\n    </tr>\n    <tr>\n      <th>2</th>\n      <td>8937</td>\n      <td>44394</td>\n      <td>2002-12-01</td>\n      <td>4</td>\n      <td>This worked very well and is EASY.  I used not...</td>\n    </tr>\n    <tr>\n      <th>3</th>\n      <td>126440</td>\n      <td>85009</td>\n      <td>2010-02-27</td>\n      <td>5</td>\n      <td>I made the Mexican topping and took it to bunk...</td>\n    </tr>\n    <tr>\n      <th>4</th>\n      <td>57222</td>\n      <td>85009</td>\n      <td>2011-10-01</td>\n      <td>5</td>\n      <td>Made the cheddar bacon topping, adding a sprin...</td>\n    </tr>\n  </tbody>\n</table>\n</div>",
      "text/plain": "   user_id  recipe_id        date  rating  \\\n0    38094      40893  2003-02-17       4   \n1  1293707      40893  2011-12-21       5   \n2     8937      44394  2002-12-01       4   \n3   126440      85009  2010-02-27       5   \n4    57222      85009  2011-10-01       5   \n\n                                              review  \n0  Great with a salad. Cooked on top of stove for...  \n1  So simple, so delicious! Great for chilly fall...  \n2  This worked very well and is EASY.  I used not...  \n3  I made the Mexican topping and took it to bunk...  \n4  Made the cheddar bacon topping, adding a sprin...  "
     },
     "execution_count": 22,
     "metadata": {},
     "output_type": "execute_result"
    }
   ],
   "source": [
    "# Extract CSV into DataFrames\n",
    "interactions_file = 'Resources/RAW_interactions.csv'\n",
    "interactions_df = pd.read_csv(interactions_file)\n",
    "interactions_df.head()"
   ]
  },
  {
   "cell_type": "code",
   "execution_count": 23,
   "metadata": {},
   "outputs": [
    {
     "data": {
      "text/html": "<div>\n<style scoped>\n    .dataframe tbody tr th:only-of-type {\n        vertical-align: middle;\n    }\n\n    .dataframe tbody tr th {\n        vertical-align: top;\n    }\n\n    .dataframe thead th {\n        text-align: right;\n    }\n</style>\n<table border=\"1\" class=\"dataframe\">\n  <thead>\n    <tr style=\"text-align: right;\">\n      <th></th>\n      <th>name</th>\n      <th>id</th>\n      <th>minutes</th>\n      <th>contributor_id</th>\n      <th>submitted</th>\n      <th>tags</th>\n      <th>nutrition</th>\n      <th>n_steps</th>\n      <th>steps</th>\n      <th>description</th>\n      <th>ingredients</th>\n      <th>n_ingredients</th>\n    </tr>\n  </thead>\n  <tbody>\n    <tr>\n      <th>0</th>\n      <td>arriba   baked winter squash mexican style</td>\n      <td>137739</td>\n      <td>55</td>\n      <td>47892</td>\n      <td>2005-09-16</td>\n      <td>['60-minutes-or-less', 'time-to-make', 'course...</td>\n      <td>[51.5, 0.0, 13.0, 0.0, 2.0, 0.0, 4.0]</td>\n      <td>11</td>\n      <td>['make a choice and proceed with recipe', 'dep...</td>\n      <td>autumn is my favorite time of year to cook! th...</td>\n      <td>['winter squash', 'mexican seasoning', 'mixed ...</td>\n      <td>7</td>\n    </tr>\n    <tr>\n      <th>1</th>\n      <td>a bit different  breakfast pizza</td>\n      <td>31490</td>\n      <td>30</td>\n      <td>26278</td>\n      <td>2002-06-17</td>\n      <td>['30-minutes-or-less', 'time-to-make', 'course...</td>\n      <td>[173.4, 18.0, 0.0, 17.0, 22.0, 35.0, 1.0]</td>\n      <td>9</td>\n      <td>['preheat oven to 425 degrees f', 'press dough...</td>\n      <td>this recipe calls for the crust to be prebaked...</td>\n      <td>['prepared pizza crust', 'sausage patty', 'egg...</td>\n      <td>6</td>\n    </tr>\n    <tr>\n      <th>2</th>\n      <td>all in the kitchen  chili</td>\n      <td>112140</td>\n      <td>130</td>\n      <td>196586</td>\n      <td>2005-02-25</td>\n      <td>['time-to-make', 'course', 'preparation', 'mai...</td>\n      <td>[269.8, 22.0, 32.0, 48.0, 39.0, 27.0, 5.0]</td>\n      <td>6</td>\n      <td>['brown ground beef in large pot', 'add choppe...</td>\n      <td>this modified version of 'mom's' chili was a h...</td>\n      <td>['ground beef', 'yellow onions', 'diced tomato...</td>\n      <td>13</td>\n    </tr>\n    <tr>\n      <th>3</th>\n      <td>alouette  potatoes</td>\n      <td>59389</td>\n      <td>45</td>\n      <td>68585</td>\n      <td>2003-04-14</td>\n      <td>['60-minutes-or-less', 'time-to-make', 'course...</td>\n      <td>[368.1, 17.0, 10.0, 2.0, 14.0, 8.0, 20.0]</td>\n      <td>11</td>\n      <td>['place potatoes in a large pot of lightly sal...</td>\n      <td>this is a super easy, great tasting, make ahea...</td>\n      <td>['spreadable cheese with garlic and herbs', 'n...</td>\n      <td>11</td>\n    </tr>\n    <tr>\n      <th>4</th>\n      <td>amish  tomato ketchup  for canning</td>\n      <td>44061</td>\n      <td>190</td>\n      <td>41706</td>\n      <td>2002-10-25</td>\n      <td>['weeknight', 'time-to-make', 'course', 'main-...</td>\n      <td>[352.9, 1.0, 337.0, 23.0, 3.0, 0.0, 28.0]</td>\n      <td>5</td>\n      <td>['mix all ingredients&amp; boil for 2 1 / 2 hours ...</td>\n      <td>my dh's amish mother raised him on this recipe...</td>\n      <td>['tomato juice', 'apple cider vinegar', 'sugar...</td>\n      <td>8</td>\n    </tr>\n  </tbody>\n</table>\n</div>",
      "text/plain": "                                         name      id  minutes  \\\n0  arriba   baked winter squash mexican style  137739       55   \n1            a bit different  breakfast pizza   31490       30   \n2                   all in the kitchen  chili  112140      130   \n3                          alouette  potatoes   59389       45   \n4          amish  tomato ketchup  for canning   44061      190   \n\n   contributor_id   submitted  \\\n0           47892  2005-09-16   \n1           26278  2002-06-17   \n2          196586  2005-02-25   \n3           68585  2003-04-14   \n4           41706  2002-10-25   \n\n                                                tags  \\\n0  ['60-minutes-or-less', 'time-to-make', 'course...   \n1  ['30-minutes-or-less', 'time-to-make', 'course...   \n2  ['time-to-make', 'course', 'preparation', 'mai...   \n3  ['60-minutes-or-less', 'time-to-make', 'course...   \n4  ['weeknight', 'time-to-make', 'course', 'main-...   \n\n                                    nutrition  n_steps  \\\n0       [51.5, 0.0, 13.0, 0.0, 2.0, 0.0, 4.0]       11   \n1   [173.4, 18.0, 0.0, 17.0, 22.0, 35.0, 1.0]        9   \n2  [269.8, 22.0, 32.0, 48.0, 39.0, 27.0, 5.0]        6   \n3   [368.1, 17.0, 10.0, 2.0, 14.0, 8.0, 20.0]       11   \n4   [352.9, 1.0, 337.0, 23.0, 3.0, 0.0, 28.0]        5   \n\n                                               steps  \\\n0  ['make a choice and proceed with recipe', 'dep...   \n1  ['preheat oven to 425 degrees f', 'press dough...   \n2  ['brown ground beef in large pot', 'add choppe...   \n3  ['place potatoes in a large pot of lightly sal...   \n4  ['mix all ingredients& boil for 2 1 / 2 hours ...   \n\n                                         description  \\\n0  autumn is my favorite time of year to cook! th...   \n1  this recipe calls for the crust to be prebaked...   \n2  this modified version of 'mom's' chili was a h...   \n3  this is a super easy, great tasting, make ahea...   \n4  my dh's amish mother raised him on this recipe...   \n\n                                         ingredients  n_ingredients  \n0  ['winter squash', 'mexican seasoning', 'mixed ...              7  \n1  ['prepared pizza crust', 'sausage patty', 'egg...              6  \n2  ['ground beef', 'yellow onions', 'diced tomato...             13  \n3  ['spreadable cheese with garlic and herbs', 'n...             11  \n4  ['tomato juice', 'apple cider vinegar', 'sugar...              8  "
     },
     "execution_count": 23,
     "metadata": {},
     "output_type": "execute_result"
    }
   ],
   "source": [
    "# Extract CSV into DataFrames\n",
    "recipes_file = 'Resources/RAW_recipes.csv'\n",
    "recipes_df = pd.read_csv(recipes_file)\n",
    "recipes_df.head()"
   ]
  },
  {
   "cell_type": "code",
   "execution_count": 24,
   "metadata": {},
   "outputs": [
    {
     "data": {
      "text/html": "<div>\n<style scoped>\n    .dataframe tbody tr th:only-of-type {\n        vertical-align: middle;\n    }\n\n    .dataframe tbody tr th {\n        vertical-align: top;\n    }\n\n    .dataframe thead th {\n        text-align: right;\n    }\n</style>\n<table border=\"1\" class=\"dataframe\">\n  <thead>\n    <tr style=\"text-align: right;\">\n      <th></th>\n      <th>user_id</th>\n      <th>rating</th>\n      <th>review</th>\n    </tr>\n    <tr>\n      <th>recipe_id</th>\n      <th></th>\n      <th></th>\n      <th></th>\n    </tr>\n  </thead>\n  <tbody>\n    <tr>\n      <th>40893</th>\n      <td>38094</td>\n      <td>4</td>\n      <td>Great with a salad. Cooked on top of stove for...</td>\n    </tr>\n    <tr>\n      <th>44394</th>\n      <td>8937</td>\n      <td>4</td>\n      <td>This worked very well and is EASY.  I used not...</td>\n    </tr>\n    <tr>\n      <th>85009</th>\n      <td>126440</td>\n      <td>5</td>\n      <td>I made the Mexican topping and took it to bunk...</td>\n    </tr>\n    <tr>\n      <th>120345</th>\n      <td>52282</td>\n      <td>4</td>\n      <td>very very sweet. after i waited the 2 days i b...</td>\n    </tr>\n    <tr>\n      <th>134728</th>\n      <td>76535</td>\n      <td>4</td>\n      <td>Very good!</td>\n    </tr>\n  </tbody>\n</table>\n</div>",
      "text/plain": "           user_id  rating                                             review\nrecipe_id                                                                    \n40893        38094       4  Great with a salad. Cooked on top of stove for...\n44394         8937       4  This worked very well and is EASY.  I used not...\n85009       126440       5  I made the Mexican topping and took it to bunk...\n120345       52282       4  very very sweet. after i waited the 2 days i b...\n134728       76535       4                                         Very good!"
     },
     "execution_count": 24,
     "metadata": {},
     "output_type": "execute_result"
    }
   ],
   "source": [
    "# Create a filtered dataframe from specific columns\n",
    "interactions_cols = ['user_id','recipe_id', 'rating', 'review']\n",
    "interactions_transformed = interactions_df[interactions_cols]\n",
    "\n",
    "# Rename the column headers\n",
    "interactions_transformed = interactions_transformed.rename(columns={\n",
    "    'user_id': 'user_id',\n",
    "    'recipe_id': 'recipe_id',\n",
    "    'rating': 'rating',\n",
    "    'review': 'review'\n",
    "    })\n",
    "\n",
    "# Clean the data by dropping duplicates and setting the index\n",
    "interactions_transformed.drop_duplicates('recipe_id', inplace=True)\n",
    "interactions_transformed.set_index('recipe_id', inplace=True)\n",
    "\n",
    "interactions_transformed.head()"
   ]
  },
  {
   "cell_type": "code",
   "execution_count": 25,
   "metadata": {},
   "outputs": [
    {
     "data": {
      "text/html": "<div>\n<style scoped>\n    .dataframe tbody tr th:only-of-type {\n        vertical-align: middle;\n    }\n\n    .dataframe tbody tr th {\n        vertical-align: top;\n    }\n\n    .dataframe thead th {\n        text-align: right;\n    }\n</style>\n<table border=\"1\" class=\"dataframe\">\n  <thead>\n    <tr style=\"text-align: right;\">\n      <th></th>\n      <th>recipe_name</th>\n      <th>user_id</th>\n      <th>description</th>\n      <th>n_of_ingredients</th>\n      <th>n_of_steps</th>\n      <th>date_posted</th>\n    </tr>\n    <tr>\n      <th>recipe_id</th>\n      <th></th>\n      <th></th>\n      <th></th>\n      <th></th>\n      <th></th>\n      <th></th>\n    </tr>\n  </thead>\n  <tbody>\n    <tr>\n      <th>137739</th>\n      <td>arriba   baked winter squash mexican style</td>\n      <td>47892</td>\n      <td>autumn is my favorite time of year to cook! th...</td>\n      <td>7</td>\n      <td>11</td>\n      <td>2005-09-16</td>\n    </tr>\n    <tr>\n      <th>31490</th>\n      <td>a bit different  breakfast pizza</td>\n      <td>26278</td>\n      <td>this recipe calls for the crust to be prebaked...</td>\n      <td>6</td>\n      <td>9</td>\n      <td>2002-06-17</td>\n    </tr>\n    <tr>\n      <th>112140</th>\n      <td>all in the kitchen  chili</td>\n      <td>196586</td>\n      <td>this modified version of 'mom's' chili was a h...</td>\n      <td>13</td>\n      <td>6</td>\n      <td>2005-02-25</td>\n    </tr>\n    <tr>\n      <th>59389</th>\n      <td>alouette  potatoes</td>\n      <td>68585</td>\n      <td>this is a super easy, great tasting, make ahea...</td>\n      <td>11</td>\n      <td>11</td>\n      <td>2003-04-14</td>\n    </tr>\n    <tr>\n      <th>44061</th>\n      <td>amish  tomato ketchup  for canning</td>\n      <td>41706</td>\n      <td>my dh's amish mother raised him on this recipe...</td>\n      <td>8</td>\n      <td>5</td>\n      <td>2002-10-25</td>\n    </tr>\n  </tbody>\n</table>\n</div>",
      "text/plain": "                                          recipe_name  user_id  \\\nrecipe_id                                                        \n137739     arriba   baked winter squash mexican style    47892   \n31490                a bit different  breakfast pizza    26278   \n112140                      all in the kitchen  chili   196586   \n59389                              alouette  potatoes    68585   \n44061              amish  tomato ketchup  for canning    41706   \n\n                                                 description  \\\nrecipe_id                                                      \n137739     autumn is my favorite time of year to cook! th...   \n31490      this recipe calls for the crust to be prebaked...   \n112140     this modified version of 'mom's' chili was a h...   \n59389      this is a super easy, great tasting, make ahea...   \n44061      my dh's amish mother raised him on this recipe...   \n\n           n_of_ingredients  n_of_steps date_posted  \nrecipe_id                                            \n137739                    7          11  2005-09-16  \n31490                     6           9  2002-06-17  \n112140                   13           6  2005-02-25  \n59389                    11          11  2003-04-14  \n44061                     8           5  2002-10-25  "
     },
     "execution_count": 25,
     "metadata": {},
     "output_type": "execute_result"
    }
   ],
   "source": [
    "# Create a filtered dataframe from specific columns\n",
    "recipes_cols = ['name','id', 'contributor_id', 'description', 'n_ingredients', 'n_steps', 'submitted']\n",
    "recipes_transformed = recipes_df[recipes_cols]\n",
    "\n",
    "# Rename the column headers\n",
    "recipes_transformed = recipes_transformed.rename(columns={\n",
    "    'name': 'recipe_name',\n",
    "    'id': 'recipe_id',\n",
    "    'contributor_id': 'user_id',\n",
    "    'description': 'description',\n",
    "    'n_ingredients' : 'n_of_ingredients',\n",
    "    'n_steps': 'n_of_steps',\n",
    "    'submitted' : 'date_posted'\n",
    "    })\n",
    "\n",
    "# Clean the data by dropping duplicates and setting the index\n",
    "recipes_transformed.drop_duplicates('recipe_id', inplace=True)\n",
    "recipes_transformed.set_index('recipe_id', inplace=True)\n",
    "\n",
    "recipes_transformed.head()"
   ]
  },
  {
   "cell_type": "code",
   "execution_count": 26,
   "metadata": {},
   "outputs": [
    {
     "data": {
      "text/html": "<div>\n<style scoped>\n    .dataframe tbody tr th:only-of-type {\n        vertical-align: middle;\n    }\n\n    .dataframe tbody tr th {\n        vertical-align: top;\n    }\n\n    .dataframe thead th {\n        text-align: right;\n    }\n</style>\n<table border=\"1\" class=\"dataframe\">\n  <thead>\n    <tr style=\"text-align: right;\">\n      <th></th>\n      <th>recipe_id</th>\n      <th>ingredients</th>\n      <th>tags</th>\n    </tr>\n  </thead>\n  <tbody>\n    <tr>\n      <th>0</th>\n      <td>137739</td>\n      <td>['winter squash', 'mexican seasoning', 'mixed ...</td>\n      <td>['60-minutes-or-less', 'time-to-make', 'course...</td>\n    </tr>\n    <tr>\n      <th>1</th>\n      <td>31490</td>\n      <td>['prepared pizza crust', 'sausage patty', 'egg...</td>\n      <td>['30-minutes-or-less', 'time-to-make', 'course...</td>\n    </tr>\n    <tr>\n      <th>2</th>\n      <td>112140</td>\n      <td>['ground beef', 'yellow onions', 'diced tomato...</td>\n      <td>['time-to-make', 'course', 'preparation', 'mai...</td>\n    </tr>\n    <tr>\n      <th>3</th>\n      <td>59389</td>\n      <td>['spreadable cheese with garlic and herbs', 'n...</td>\n      <td>['60-minutes-or-less', 'time-to-make', 'course...</td>\n    </tr>\n    <tr>\n      <th>4</th>\n      <td>44061</td>\n      <td>['tomato juice', 'apple cider vinegar', 'sugar...</td>\n      <td>['weeknight', 'time-to-make', 'course', 'main-...</td>\n    </tr>\n  </tbody>\n</table>\n</div>",
      "text/plain": "   recipe_id                                        ingredients  \\\n0     137739  ['winter squash', 'mexican seasoning', 'mixed ...   \n1      31490  ['prepared pizza crust', 'sausage patty', 'egg...   \n2     112140  ['ground beef', 'yellow onions', 'diced tomato...   \n3      59389  ['spreadable cheese with garlic and herbs', 'n...   \n4      44061  ['tomato juice', 'apple cider vinegar', 'sugar...   \n\n                                                tags  \n0  ['60-minutes-or-less', 'time-to-make', 'course...  \n1  ['30-minutes-or-less', 'time-to-make', 'course...  \n2  ['time-to-make', 'course', 'preparation', 'mai...  \n3  ['60-minutes-or-less', 'time-to-make', 'course...  \n4  ['weeknight', 'time-to-make', 'course', 'main-...  "
     },
     "execution_count": 26,
     "metadata": {},
     "output_type": "execute_result"
    }
   ],
   "source": [
    "# Create a 2nd filtered dataframe from specific columns to break down ingredients and tags columns into lists\n",
    "recipe_details_cols = ['id', 'ingredients', 'tags']\n",
    "recipes_details_transformed = recipes_df[recipe_details_cols]\n",
    "\n",
    "# Rename the column headers\n",
    "recipes_details_transformed = recipes_details_transformed.rename(columns={\n",
    "    'id': 'recipe_id',\n",
    "    'ingredients': 'ingredients',\n",
    "    'tags' : 'tags'\n",
    "    })\n",
    "\n",
    "# Clean the data by dropping duplicates and setting the index\n",
    "recipes_details_transformed.drop_duplicates('recipe_id', inplace=True)\n",
    "recipes_details_transformed.set_index('recipe_id', inplace=True)\n",
    "recipes_details_transformed.reset_index(level=None, drop=False, inplace=True)\n",
    "recipes_details_transformed.head()"
   ]
  },
  {
   "cell_type": "code",
   "execution_count": 27,
   "metadata": {},
   "outputs": [
    {
     "data": {
      "text/plain": "231637"
     },
     "execution_count": 27,
     "metadata": {},
     "output_type": "execute_result"
    }
   ],
   "source": [
    "len(recipes_details_transformed.index)"
   ]
  },
  {
   "cell_type": "code",
   "execution_count": 28,
   "metadata": {},
   "outputs": [],
   "source": [
    "ingredients_df = pd.DataFrame()\n",
    "tags_df = pd.DataFrame()\n",
    "\n",
    "recipe_ingredient_id = []\n",
    "ingredients = []\n",
    "recipe_tag_id = []\n",
    "tags = []\n",
    "\n",
    "rows = len(recipes_details_transformed.index)\n",
    "\n",
    "for row in range(0,231637):\n",
    "    recipe = recipes_details_transformed.iloc[row,0]\n",
    "    for column in range(1,3):\n",
    "        data = str(recipes_details_transformed.iloc[row,column])\n",
    "        if data: \n",
    "            list = eval(data)\n",
    "            for item in list:\n",
    "                if column == 1:\n",
    "                    recipe_ingredient_id.append(recipe)\n",
    "                    ingredients.append(item)\n",
    "                if column == 2:\n",
    "                    recipe_tag_id.append(recipe)\n",
    "                    tags.append(item)\n",
    "ingredients_df['Recipe ID'] = recipe_ingredient_id\n",
    "ingredients_df['Ingredient'] = ingredients\n",
    "tags_df['Recipe ID'] = recipe_tag_id\n",
    "tags_df['Tag'] = tags"
   ]
  },
  {
   "cell_type": "code",
   "execution_count": 29,
   "metadata": {},
   "outputs": [
    {
     "data": {
      "text/html": "<div>\n<style scoped>\n    .dataframe tbody tr th:only-of-type {\n        vertical-align: middle;\n    }\n\n    .dataframe tbody tr th {\n        vertical-align: top;\n    }\n\n    .dataframe thead th {\n        text-align: right;\n    }\n</style>\n<table border=\"1\" class=\"dataframe\">\n  <thead>\n    <tr style=\"text-align: right;\">\n      <th></th>\n      <th>Recipe ID</th>\n      <th>Ingredient</th>\n    </tr>\n  </thead>\n  <tbody>\n    <tr>\n      <th>0</th>\n      <td>137739</td>\n      <td>winter squash</td>\n    </tr>\n    <tr>\n      <th>1</th>\n      <td>137739</td>\n      <td>mexican seasoning</td>\n    </tr>\n    <tr>\n      <th>2</th>\n      <td>137739</td>\n      <td>mixed spice</td>\n    </tr>\n    <tr>\n      <th>3</th>\n      <td>137739</td>\n      <td>honey</td>\n    </tr>\n    <tr>\n      <th>4</th>\n      <td>137739</td>\n      <td>butter</td>\n    </tr>\n  </tbody>\n</table>\n</div>",
      "text/plain": "   Recipe ID         Ingredient\n0     137739      winter squash\n1     137739  mexican seasoning\n2     137739        mixed spice\n3     137739              honey\n4     137739             butter"
     },
     "execution_count": 29,
     "metadata": {},
     "output_type": "execute_result"
    }
   ],
   "source": [
    "ingredients_df.head()"
   ]
  },
  {
   "cell_type": "code",
   "execution_count": 30,
   "metadata": {},
   "outputs": [],
   "source": [
    "ingredients_df.to_csv(r'Resources/ingredients.csv')"
   ]
  },
  {
   "cell_type": "code",
   "execution_count": 31,
   "metadata": {},
   "outputs": [
    {
     "data": {
      "text/html": "<div>\n<style scoped>\n    .dataframe tbody tr th:only-of-type {\n        vertical-align: middle;\n    }\n\n    .dataframe tbody tr th {\n        vertical-align: top;\n    }\n\n    .dataframe thead th {\n        text-align: right;\n    }\n</style>\n<table border=\"1\" class=\"dataframe\">\n  <thead>\n    <tr style=\"text-align: right;\">\n      <th></th>\n      <th>Unnamed: 0</th>\n      <th>Recipe ID</th>\n      <th>Ingredient</th>\n    </tr>\n  </thead>\n  <tbody>\n    <tr>\n      <th>0</th>\n      <td>0</td>\n      <td>137739</td>\n      <td>winter squash</td>\n    </tr>\n    <tr>\n      <th>1</th>\n      <td>1</td>\n      <td>137739</td>\n      <td>mexican seasoning</td>\n    </tr>\n    <tr>\n      <th>2</th>\n      <td>2</td>\n      <td>137739</td>\n      <td>mixed spice</td>\n    </tr>\n    <tr>\n      <th>3</th>\n      <td>3</td>\n      <td>137739</td>\n      <td>honey</td>\n    </tr>\n    <tr>\n      <th>4</th>\n      <td>4</td>\n      <td>137739</td>\n      <td>butter</td>\n    </tr>\n  </tbody>\n</table>\n</div>",
      "text/plain": "   Unnamed: 0  Recipe ID         Ingredient\n0           0     137739      winter squash\n1           1     137739  mexican seasoning\n2           2     137739        mixed spice\n3           3     137739              honey\n4           4     137739             butter"
     },
     "execution_count": 31,
     "metadata": {},
     "output_type": "execute_result"
    }
   ],
   "source": [
    "ingredients_file = 'Resources/ingredients.csv'\n",
    "ingredients = pd.read_csv(ingredients_file)\n",
    "ingredients.head()"
   ]
  },
  {
   "cell_type": "code",
   "execution_count": 33,
   "metadata": {},
   "outputs": [
    {
     "data": {
      "text/html": "<div>\n<style scoped>\n    .dataframe tbody tr th:only-of-type {\n        vertical-align: middle;\n    }\n\n    .dataframe tbody tr th {\n        vertical-align: top;\n    }\n\n    .dataframe thead th {\n        text-align: right;\n    }\n</style>\n<table border=\"1\" class=\"dataframe\">\n  <thead>\n    <tr style=\"text-align: right;\">\n      <th></th>\n      <th>ingredients</th>\n    </tr>\n    <tr>\n      <th>recipe_id</th>\n      <th></th>\n    </tr>\n  </thead>\n  <tbody>\n    <tr>\n      <th>137739</th>\n      <td>winter squash</td>\n    </tr>\n    <tr>\n      <th>31490</th>\n      <td>prepared pizza crust</td>\n    </tr>\n    <tr>\n      <th>112140</th>\n      <td>ground beef</td>\n    </tr>\n    <tr>\n      <th>59389</th>\n      <td>spreadable cheese with garlic and herbs</td>\n    </tr>\n    <tr>\n      <th>44061</th>\n      <td>tomato juice</td>\n    </tr>\n  </tbody>\n</table>\n</div>",
      "text/plain": "                                       ingredients\nrecipe_id                                         \n137739                               winter squash\n31490                         prepared pizza crust\n112140                                 ground beef\n59389      spreadable cheese with garlic and herbs\n44061                                 tomato juice"
     },
     "execution_count": 33,
     "metadata": {},
     "output_type": "execute_result"
    }
   ],
   "source": [
    "# Create a filtered dataframe from specific columns\n",
    "ingredients_cols = ['Recipe ID', 'Ingredient']\n",
    "ingredients_transformed = ingredients[ingredients_cols]\n",
    "\n",
    "# Rename the column headers\n",
    "ingredients_transformed = ingredients_transformed.rename(columns={\n",
    "    'Recipe ID' : 'recipe_id',\n",
    "    'Ingredient' : 'ingredients'\n",
    "    })\n",
    "\n",
    "# Clean the data by dropping duplicates and setting the index\n",
    "ingredients_transformed.drop_duplicates('recipe_id', inplace=True)\n",
    "ingredients_transformed.set_index('recipe_id', inplace=True)\n",
    "\n",
    "ingredients_transformed.head()"
   ]
  },
  {
   "cell_type": "code",
   "execution_count": 34,
   "metadata": {},
   "outputs": [
    {
     "data": {
      "text/html": "<div>\n<style scoped>\n    .dataframe tbody tr th:only-of-type {\n        vertical-align: middle;\n    }\n\n    .dataframe tbody tr th {\n        vertical-align: top;\n    }\n\n    .dataframe thead th {\n        text-align: right;\n    }\n</style>\n<table border=\"1\" class=\"dataframe\">\n  <thead>\n    <tr style=\"text-align: right;\">\n      <th></th>\n      <th>Recipe ID</th>\n      <th>Tag</th>\n    </tr>\n  </thead>\n  <tbody>\n    <tr>\n      <th>0</th>\n      <td>137739</td>\n      <td>60-minutes-or-less</td>\n    </tr>\n    <tr>\n      <th>1</th>\n      <td>137739</td>\n      <td>time-to-make</td>\n    </tr>\n    <tr>\n      <th>2</th>\n      <td>137739</td>\n      <td>course</td>\n    </tr>\n    <tr>\n      <th>3</th>\n      <td>137739</td>\n      <td>main-ingredient</td>\n    </tr>\n    <tr>\n      <th>4</th>\n      <td>137739</td>\n      <td>cuisine</td>\n    </tr>\n  </tbody>\n</table>\n</div>",
      "text/plain": "   Recipe ID                 Tag\n0     137739  60-minutes-or-less\n1     137739        time-to-make\n2     137739              course\n3     137739     main-ingredient\n4     137739             cuisine"
     },
     "execution_count": 34,
     "metadata": {},
     "output_type": "execute_result"
    }
   ],
   "source": [
    "tags_df.head()"
   ]
  },
  {
   "cell_type": "code",
   "execution_count": 35,
   "metadata": {},
   "outputs": [],
   "source": [
    "tags_df.to_csv(r'Resources/tags.csv')"
   ]
  },
  {
   "cell_type": "code",
   "execution_count": 36,
   "metadata": {},
   "outputs": [
    {
     "data": {
      "text/html": "<div>\n<style scoped>\n    .dataframe tbody tr th:only-of-type {\n        vertical-align: middle;\n    }\n\n    .dataframe tbody tr th {\n        vertical-align: top;\n    }\n\n    .dataframe thead th {\n        text-align: right;\n    }\n</style>\n<table border=\"1\" class=\"dataframe\">\n  <thead>\n    <tr style=\"text-align: right;\">\n      <th></th>\n      <th>Unnamed: 0</th>\n      <th>Recipe ID</th>\n      <th>Tag</th>\n    </tr>\n  </thead>\n  <tbody>\n    <tr>\n      <th>0</th>\n      <td>0</td>\n      <td>137739</td>\n      <td>60-minutes-or-less</td>\n    </tr>\n    <tr>\n      <th>1</th>\n      <td>1</td>\n      <td>137739</td>\n      <td>time-to-make</td>\n    </tr>\n    <tr>\n      <th>2</th>\n      <td>2</td>\n      <td>137739</td>\n      <td>course</td>\n    </tr>\n    <tr>\n      <th>3</th>\n      <td>3</td>\n      <td>137739</td>\n      <td>main-ingredient</td>\n    </tr>\n    <tr>\n      <th>4</th>\n      <td>4</td>\n      <td>137739</td>\n      <td>cuisine</td>\n    </tr>\n  </tbody>\n</table>\n</div>",
      "text/plain": "   Unnamed: 0  Recipe ID                 Tag\n0           0     137739  60-minutes-or-less\n1           1     137739        time-to-make\n2           2     137739              course\n3           3     137739     main-ingredient\n4           4     137739             cuisine"
     },
     "execution_count": 36,
     "metadata": {},
     "output_type": "execute_result"
    }
   ],
   "source": [
    "tags_file = 'Resources/tags.csv'\n",
    "tags = pd.read_csv(tags_file)\n",
    "tags.head()"
   ]
  },
  {
   "cell_type": "code",
   "execution_count": 37,
   "metadata": {},
   "outputs": [
    {
     "data": {
      "text/html": "<div>\n<style scoped>\n    .dataframe tbody tr th:only-of-type {\n        vertical-align: middle;\n    }\n\n    .dataframe tbody tr th {\n        vertical-align: top;\n    }\n\n    .dataframe thead th {\n        text-align: right;\n    }\n</style>\n<table border=\"1\" class=\"dataframe\">\n  <thead>\n    <tr style=\"text-align: right;\">\n      <th></th>\n      <th>tags</th>\n    </tr>\n    <tr>\n      <th>recipe_id</th>\n      <th></th>\n    </tr>\n  </thead>\n  <tbody>\n    <tr>\n      <th>137739</th>\n      <td>60-minutes-or-less</td>\n    </tr>\n    <tr>\n      <th>31490</th>\n      <td>30-minutes-or-less</td>\n    </tr>\n    <tr>\n      <th>112140</th>\n      <td>time-to-make</td>\n    </tr>\n    <tr>\n      <th>59389</th>\n      <td>60-minutes-or-less</td>\n    </tr>\n    <tr>\n      <th>44061</th>\n      <td>weeknight</td>\n    </tr>\n  </tbody>\n</table>\n</div>",
      "text/plain": "                         tags\nrecipe_id                    \n137739     60-minutes-or-less\n31490      30-minutes-or-less\n112140           time-to-make\n59389      60-minutes-or-less\n44061               weeknight"
     },
     "execution_count": 37,
     "metadata": {},
     "output_type": "execute_result"
    }
   ],
   "source": [
    "# Create a filtered dataframe from specific columns\n",
    "tags_cols = ['Recipe ID', 'Tag']\n",
    "tags_transformed = tags[tags_cols]\n",
    "\n",
    "# Rename the column headers\n",
    "tags_transformed = tags_transformed.rename(columns={\n",
    "    'Recipe ID' : 'recipe_id',\n",
    "    'Tag' : 'tags'\n",
    "    })\n",
    "\n",
    "# Clean the data by dropping duplicates and setting the index\n",
    "tags_transformed.drop_duplicates('recipe_id', inplace=True)\n",
    "tags_transformed.set_index('recipe_id', inplace=True)\n",
    "\n",
    "tags_transformed.head()"
   ]
  },
  {
   "cell_type": "code",
   "execution_count": 38,
   "metadata": {},
   "outputs": [],
   "source": [
    "connection_string = \"postgres:Hercules19!@localhost:5432/recipes_db\"\n",
    "engine = create_engine(f'postgresql://{connection_string}')"
   ]
  },
  {
   "cell_type": "code",
   "execution_count": 39,
   "metadata": {},
   "outputs": [
    {
     "data": {
      "text/plain": "['ingredients',\n 'recipes',\n 'interactions',\n 'tags',\n 'ingredients_test',\n 'tags_test']"
     },
     "execution_count": 39,
     "metadata": {},
     "output_type": "execute_result"
    }
   ],
   "source": [
    "# Confirm tables\n",
    "engine.table_names()"
   ]
  },
  {
   "cell_type": "code",
   "execution_count": null,
   "metadata": {},
   "outputs": [],
   "source": [
    "# Write dataframes into tables in database\n",
    "recipes_transformed.to_sql(name='recipes', con=engine, if_exists='append', index=True)"
   ]
  },
  {
   "cell_type": "code",
   "execution_count": null,
   "metadata": {},
   "outputs": [],
   "source": [
    "interactions_transformed.to_sql(name='interactions', con=engine, if_exists='append', index=True)"
   ]
  },
  {
   "cell_type": "code",
   "execution_count": 40,
   "metadata": {},
   "outputs": [],
   "source": [
    "ingredients_transformed.to_sql(name='ingredients_test', con=engine, if_exists='append', index=True)"
   ]
  },
  {
   "cell_type": "code",
   "execution_count": 41,
   "metadata": {},
   "outputs": [],
   "source": [
    "tags_transformed.to_sql(name='tags_test', con=engine, if_exists='append', index=True)"
   ]
  },
  {
   "cell_type": "code",
   "execution_count": null,
   "metadata": {},
   "outputs": [],
   "source": []
  }
 ],
 "metadata": {
  "file_extension": ".py",
  "kernelspec": {
   "display_name": "Python 3",
   "language": "python",
   "name": "python3"
  },
  "language_info": {
   "codemirror_mode": {
    "name": "ipython",
    "version": 3
   },
   "file_extension": ".py",
   "mimetype": "text/x-python",
   "name": "python",
   "nbconvert_exporter": "python",
   "pygments_lexer": "ipython3",
   "version": "3.7.3"
  },
  "mimetype": "text/x-python",
  "name": "python",
  "npconvert_exporter": "python",
  "pygments_lexer": "ipython3",
  "version": 3
 },
 "nbformat": 4,
 "nbformat_minor": 2
}